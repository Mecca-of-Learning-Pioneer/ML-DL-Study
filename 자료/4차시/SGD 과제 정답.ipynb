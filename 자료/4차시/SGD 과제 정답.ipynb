{
  "nbformat": 4,
  "nbformat_minor": 0,
  "metadata": {
    "colab": {
      "provenance": []
    },
    "kernelspec": {
      "name": "python3",
      "display_name": "Python 3"
    },
    "language_info": {
      "name": "python"
    }
  },
  "cells": [
    {
      "cell_type": "markdown",
      "source": [
        "## SGD방식으로 Ridge Regression/Lasso Regression 구현하기\n",
        "#### [8. 확률적 경사 하강법]에서는 SGD방식으로 Logistic Regression(Classification)을 구현했다.\n",
        "#### 직접 SGD방식으로 Ridge Regression/Lasso Regression(Regression)을 구현해보자."
      ],
      "metadata": {
        "id": "TliSrcpbb3Vc"
      }
    },
    {
      "cell_type": "code",
      "execution_count": null,
      "metadata": {
        "id": "ABlCnHe9bGkg",
        "colab": {
          "base_uri": "https://localhost:8080/"
        },
        "outputId": "c9d073ff-1185-4449-8c7f-ddb753343733"
      },
      "outputs": [
        {
          "output_type": "stream",
          "name": "stdout",
          "text": [
            "[[ 8.4   2.11  1.41]\n",
            " [13.7   3.53  2.  ]\n",
            " [15.    3.82  2.43]\n",
            " [16.2   4.59  2.63]\n",
            " [17.4   4.59  2.94]\n",
            " [18.    5.22  3.32]\n",
            " [18.7   5.2   3.12]\n",
            " [19.    5.64  3.05]\n",
            " [19.6   5.14  3.04]\n",
            " [20.    5.08  2.77]\n",
            " [21.    5.69  3.56]\n",
            " [21.    5.92  3.31]\n",
            " [21.    5.69  3.67]\n",
            " [21.3   6.38  3.53]\n",
            " [22.    6.11  3.41]\n",
            " [22.    5.64  3.52]\n",
            " [22.    6.11  3.52]\n",
            " [22.    5.88  3.52]\n",
            " [22.    5.52  4.  ]\n",
            " [22.5   5.86  3.62]\n",
            " [22.5   6.79  3.62]\n",
            " [22.7   5.95  3.63]\n",
            " [23.    5.22  3.63]\n",
            " [23.5   6.28  3.72]\n",
            " [24.    7.29  3.72]\n",
            " [24.    6.38  3.82]\n",
            " [24.6   6.73  4.17]\n",
            " [25.    6.44  3.68]\n",
            " [25.6   6.56  4.24]\n",
            " [26.5   7.17  4.14]\n",
            " [27.3   8.32  5.14]\n",
            " [27.5   7.17  4.34]\n",
            " [27.5   7.05  4.34]\n",
            " [27.5   7.28  4.57]\n",
            " [28.    7.82  4.2 ]\n",
            " [28.7   7.59  4.64]\n",
            " [30.    7.62  4.77]\n",
            " [32.8  10.03  6.02]\n",
            " [34.5  10.26  6.39]\n",
            " [35.   11.49  7.8 ]\n",
            " [36.5  10.88  6.86]\n",
            " [36.   10.61  6.74]\n",
            " [37.   10.84  6.26]\n",
            " [37.   10.57  6.37]\n",
            " [39.   11.14  7.49]\n",
            " [39.   11.14  6.  ]\n",
            " [39.   12.43  7.35]\n",
            " [40.   11.93  7.11]\n",
            " [40.   11.73  7.22]\n",
            " [40.   12.38  7.46]\n",
            " [40.   11.14  6.63]\n",
            " [42.   12.8   6.87]\n",
            " [43.   11.93  7.28]\n",
            " [43.   12.51  7.42]\n",
            " [43.5  12.6   8.14]\n",
            " [44.   12.49  7.6 ]]\n"
          ]
        }
      ],
      "source": [
        "import pandas as pd\n",
        "\n",
        "# 농어 56마리 [길이, 높이, 두께] 데이터 받아오기\n",
        "df = pd.read_csv('https://bit.ly/perch_csv_data')\n",
        "perch_full = df.to_numpy() # 넘파이 배열로 변환\n",
        "print(perch_full)"
      ]
    },
    {
      "cell_type": "code",
      "source": [
        "import numpy as np\n",
        "\n",
        "# 농어 56마리 무게 데이터\n",
        "perch_weight = np.array(\n",
        "    [5.9, 32.0, 40.0, 51.5, 70.0, 100.0, 78.0, 80.0, 85.0, 85.0,\n",
        "     110.0, 115.0, 125.0, 130.0, 120.0, 120.0, 130.0, 135.0, 110.0,\n",
        "     130.0, 150.0, 145.0, 150.0, 170.0, 225.0, 145.0, 188.0, 180.0,\n",
        "     197.0, 218.0, 300.0, 260.0, 265.0, 250.0, 250.0, 300.0, 320.0,\n",
        "     514.0, 556.0, 840.0, 685.0, 700.0, 700.0, 690.0, 900.0, 650.0,\n",
        "     820.0, 850.0, 900.0, 1015.0, 820.0, 1100.0, 1000.0, 1100.0,\n",
        "     1000.0, 1000.0]\n",
        "     )"
      ],
      "metadata": {
        "id": "fIzYTATIdsHl"
      },
      "execution_count": null,
      "outputs": []
    },
    {
      "cell_type": "code",
      "source": [
        "# train set과 test set으로 나누기 (기본 train set: 75%, test set: 25%)\n",
        "from sklearn.model_selection import train_test_split\n",
        "\n",
        "train_input, test_input, train_target, test_target = train_test_split(perch_full, perch_weight, random_state=42)"
      ],
      "metadata": {
        "id": "XKuZ-Ru_dtMk"
      },
      "execution_count": null,
      "outputs": []
    },
    {
      "cell_type": "code",
      "source": [
        "# 새로운 특성 만들기 (기본 degree값은 2)\n",
        "from sklearn.preprocessing import PolynomialFeatures"
      ],
      "metadata": {
        "id": "XUCfpaj6dvtc"
      },
      "execution_count": null,
      "outputs": []
    },
    {
      "cell_type": "code",
      "source": [
        "# 객체 생성 # 5제곱까지 특성 만들기 (기본 degree값은 2)\n",
        "poly = PolynomialFeatures(degree=5, include_bias=False)\n",
        "\n",
        "# 객체 training\n",
        "poly.fit(train_input)\n",
        "# train_input 변환\n",
        "train_poly = poly.transform(train_input)\n",
        "# test_input 변환\n",
        "test_poly = poly.transform(test_input)"
      ],
      "metadata": {
        "id": "C7w4TZGhd8ff"
      },
      "execution_count": null,
      "outputs": []
    },
    {
      "cell_type": "code",
      "source": [
        "print(train_poly.shape)"
      ],
      "metadata": {
        "id": "yZ0Q4vewePFt",
        "colab": {
          "base_uri": "https://localhost:8080/"
        },
        "outputId": "71349d87-d8d2-43f7-ee52-88f80f324a2e"
      },
      "execution_count": null,
      "outputs": [
        {
          "output_type": "stream",
          "name": "stdout",
          "text": [
            "(42, 55)\n"
          ]
        }
      ]
    },
    {
      "cell_type": "code",
      "source": [
        "# Z-Score Normalization\n",
        "from sklearn.preprocessing import StandardScaler\n",
        "\n",
        "# 객체 생성\n",
        "ss = StandardScaler()\n",
        "# 객체 훈련 # train input data에 대해 mean값과 std값이 구해짐\n",
        "ss.fit(train_poly)\n",
        "\n",
        "# train_poly 변환(정규화)\n",
        "train_scaled = ss.transform(train_poly)\n",
        "# test_poly 변환(정규화)\n",
        "test_scaled = ss.transform(test_poly) # 반드시 train set의 통계 값으로 변환해야함(반드시 train set으로 fit)"
      ],
      "metadata": {
        "id": "NWwP7ROieQqI"
      },
      "execution_count": null,
      "outputs": []
    },
    {
      "cell_type": "markdown",
      "source": [
        "### 참고\n",
        "#### - SGDClassifier에서 partial_fit() 메서드를 사용할 때 classes 매개변수는 클래스 레이블의 유니크한 값을 지정하는 것이 중요합니다. 이것은 다중 클래스 분류 (Multiclass Classification) 문제를 다루는 경우 특히 중요합니다. partial_fit()를 사용할 때, 클래스 레이블의 유니크한 값들을 classes 매개변수로 지정해야 합니다.\n",
        "\n",
        "#### - 반면에 SGDRegressor는 회귀 문제를 다루는 모델로 클래스 레이블이 아닌 실수 값인 타깃 값을 예측하므로, classes 매개변수는 회귀 문제에서는 필요하지 않습니다. 따라서 SGDRegressor를 사용할 때 partial_fit()를 호출할 때 classes 매개변수를 지정할 필요가 없습니다. 이 모델은 연속적인 실수 값을 예측하는 회귀 문제에 사용되며, 클래스 레이블과 관련이 없습니다."
      ],
      "metadata": {
        "id": "7bPRO_WUgGqB"
      }
    },
    {
      "cell_type": "code",
      "source": [
        "# 확률적 경사 하강법(Regression) 사용(loss : 손실 함수, max_iter : 에포크 수, tol : 성능향상 최솟값(성능향상되지 않으면 훈련 종료))\n",
        "from sklearn.linear_model import SGDRegressor"
      ],
      "metadata": {
        "id": "oBxjlPs6eflY"
      },
      "execution_count": null,
      "outputs": []
    },
    {
      "cell_type": "markdown",
      "source": [
        "### Ridge Regression(L2 규제)\n",
        "#### - 손실 함수는 MSE로 지정"
      ],
      "metadata": {
        "id": "MzPuqK6xknqZ"
      }
    },
    {
      "cell_type": "code",
      "source": [
        "# 모델 생성\n",
        "sr = SGDRegressor(loss='squared_error', penalty='l2', random_state=42)\n",
        "\n",
        "# 에포크마다 점수를 저장할 리스트\n",
        "train_score = []\n",
        "test_score = []"
      ],
      "metadata": {
        "id": "5fMycO0jfPdv"
      },
      "execution_count": null,
      "outputs": []
    },
    {
      "cell_type": "code",
      "source": [
        "# 300에포크 반복\n",
        "for _ in range(0, 300):\n",
        "    sr.partial_fit(train_scaled, train_target)\n",
        "\n",
        "    train_score.append(sr.score(train_scaled, train_target))\n",
        "    test_score.append(sr.score(test_scaled, test_target))"
      ],
      "metadata": {
        "id": "Qu8MQxKMgW3i"
      },
      "execution_count": null,
      "outputs": []
    },
    {
      "cell_type": "code",
      "source": [
        "# 300에포크 동안 기록한 train set, test set의 점수를 그래프로 그리기\n",
        "import matplotlib.pyplot as plt\n",
        "\n",
        "plt.plot(train_score)\n",
        "plt.plot(test_score)\n",
        "plt.xlabel('epoch')\n",
        "plt.ylabel('accuracy')\n",
        "plt.show()"
      ],
      "metadata": {
        "id": "hRS87lo3gtcK",
        "colab": {
          "base_uri": "https://localhost:8080/",
          "height": 449
        },
        "outputId": "9594300a-478b-4d7b-f5ce-e0674eea0a50"
      },
      "execution_count": null,
      "outputs": [
        {
          "output_type": "display_data",
          "data": {
            "text/plain": [
              "<Figure size 640x480 with 1 Axes>"
            ],
            "image/png": "[encoded data removed]"
          },
          "metadata": {}
        }
      ]
    },
    {
      "cell_type": "code",
      "source": [
        "# 모델 생성\n",
        "sr = SGDRegressor(loss='squared_error', penalty='l2', max_iter=50, tol=None, random_state=42)\n",
        "# 모델 훈련\n",
        "sr.fit(train_scaled, train_target)\n",
        "\n",
        "# 모델 평가\n",
        "print(sr.score(train_scaled, train_target))\n",
        "print(sr.score(test_scaled, test_target))"
      ],
      "metadata": {
        "id": "9aujK3kAgvS8",
        "colab": {
          "base_uri": "https://localhost:8080/"
        },
        "outputId": "157c0a83-ccf4-4165-9cf0-3ae49be18f43"
      },
      "execution_count": null,
      "outputs": [
        {
          "output_type": "stream",
          "name": "stdout",
          "text": [
            "0.9874344438493025\n",
            "0.978353301558249\n"
          ]
        }
      ]
    },
    {
      "cell_type": "markdown",
      "source": [
        "### Lasso Regression(L1 규제)\n",
        "#### - 손실 함수는 MSE로 지정"
      ],
      "metadata": {
        "id": "FRsq56NilAzZ"
      }
    },
    {
      "cell_type": "code",
      "source": [
        "# 모델 생성\n",
        "sr = SGDRegressor(loss='squared_error', penalty='l1', random_state=42)\n",
        "\n",
        "# 에포크마다 점수를 저장할 리스트\n",
        "train_score = []\n",
        "test_score = []"
      ],
      "metadata": {
        "id": "xJljVsI2lbZK"
      },
      "execution_count": null,
      "outputs": []
    },
    {
      "cell_type": "code",
      "source": [
        "# 300에포크 반복\n",
        "for _ in range(0, 300):\n",
        "    sr.partial_fit(train_scaled, train_target)\n",
        "\n",
        "    train_score.append(sr.score(train_scaled, train_target))\n",
        "    test_score.append(sr.score(test_scaled, test_target))"
      ],
      "metadata": {
        "id": "l6cP7xP4lve6"
      },
      "execution_count": null,
      "outputs": []
    },
    {
      "cell_type": "code",
      "source": [
        "# 300에포크 동안 기록한 train set, test set의 점수를 그래프로 그리기\n",
        "import matplotlib.pyplot as plt\n",
        "\n",
        "plt.plot(train_score)\n",
        "plt.plot(test_score)\n",
        "plt.xlabel('epoch')\n",
        "plt.ylabel('accuracy')\n",
        "plt.show()"
      ],
      "metadata": {
        "colab": {
          "base_uri": "https://localhost:8080/",
          "height": 449
        },
        "outputId": "d19158a8-b225-4331-d6aa-993dd46b694c",
        "id": "rQNmg9D3lz38"
      },
      "execution_count": null,
      "outputs": [
        {
          "output_type": "display_data",
          "data": {
            "text/plain": [
              "<Figure size 640x480 with 1 Axes>"
            ],
            "image/png": "[encoded data removed]"
          },
          "metadata": {}
        }
      ]
    },
    {
      "cell_type": "code",
      "source": [
        "# 모델 생성\n",
        "sr = SGDRegressor(loss='squared_error', penalty='l1', max_iter=50, tol=None, random_state=42)\n",
        "# 모델 훈련\n",
        "sr.fit(train_scaled, train_target)\n",
        "\n",
        "# 모델 평가\n",
        "print(sr.score(train_scaled, train_target))\n",
        "print(sr.score(test_scaled, test_target))"
      ],
      "metadata": {
        "colab": {
          "base_uri": "https://localhost:8080/"
        },
        "id": "st1Ng9v1l35z",
        "outputId": "60e06c83-3ede-4c9f-fbc8-e0f273828a70"
      },
      "execution_count": null,
      "outputs": [
        {
          "output_type": "stream",
          "name": "stdout",
          "text": [
            "0.9874347903467581\n",
            "0.9783545988146742\n"
          ]
        }
      ]
    }
  ]
}